{
 "cells": [
  {
   "cell_type": "code",
   "execution_count": 2,
   "metadata": {},
   "outputs": [],
   "source": [
    "# import\n",
    "import numpy as np\n",
    "import tensor.tensor_product_wrapper as tp\n",
    "from utils.plotting_utils import montage_array, slice_subplots\n",
    "import matplotlib.pyplot as plt\n",
    "import similarity_metrics as sm\n",
    "from sklearn.model_selection import train_test_split\n",
    "import scipy.io\n",
    "import utils.starplus_utils as starp\n",
    "from numpy.linalg import norm\n",
    "from tensor.utils import assert_compatile_sizes_modek, reshape, make_axis_iterable"
   ]
  },
  {
   "cell_type": "code",
   "execution_count": 3,
   "metadata": {},
   "outputs": [],
   "source": [
    "# ==================================================================================================================== #\n",
    "# choose product type {'f', 't', 'c'，'m'}\n",
    "# m-product using haarMatrix\n",
    "prod_type = 'c'"
   ]
  },
  {
   "cell_type": "code",
   "execution_count": 4,
   "metadata": {},
   "outputs": [],
   "source": [
    "# ==================================================================================================================== #\n",
    "# define projection\n",
    "def projection(A, U, prod_type):\n",
    "    if prod_type == 'm':\n",
    "        training_coeff = tp.ten_prod(tp.ten_tran(U, prod_type=prod_type), A, prod_type=prod_type,M = (haar_normalized(64),haar_normalized(8),haar_normalized(16)))\n",
    "        return tp.ten_prod(U, training_coeff, prod_type=prod_type, M = (haar_normalized(64),haar_normalized(8),haar_normalized(16)))\n",
    "    else:\n",
    "        training_coeff = tp.ten_prod(tp.ten_tran(U, prod_type=prod_type), A, prod_type=prod_type)\n",
    "        return tp.ten_prod(U, training_coeff, prod_type=prod_type)"
   ]
  },
  {
   "cell_type": "code",
   "execution_count": 5,
   "metadata": {},
   "outputs": [],
   "source": [
    "# ==================================================================================================================== #\n",
    "# for reproducibility\n",
    "np.random.seed(20)"
   ]
  },
  {
   "cell_type": "code",
   "execution_count": 7,
   "metadata": {},
   "outputs": [],
   "source": [
    "# load data\n",
    "# we need the variables\n",
    "#   training_data, training_labels, test_data, test_labels, num_classes\n",
    "num_classes = 2\n",
    "star_plus_data = scipy.io.loadmat('data-starplus-04847-v7.mat')\n",
    "tensor_PS, labels = starp.get_labels(star_plus_data)\n",
    "tensor_PS  = tensor_PS / norm(tensor_PS)"
   ]
  },
  {
   "cell_type": "code",
   "execution_count": 10,
   "metadata": {},
   "outputs": [],
   "source": [
    "training_data, test_data, training_labels, test_labels = train_test_split(np.moveaxis(tensor_PS, -1, 0), np.transpose(labels), test_size=0.33, random_state=42)\n",
    "(unique, counts) = np.unique(test_labels, return_counts=True)\n",
    "(unique, counts) = np.unique(training_labels, return_counts=True)\n",
    "# move the label number to second axis\n",
    "training_data = np.moveaxis(training_data, 0, 1)\n",
    "test_data = np.moveaxis(test_data, 0, 1)"
   ]
  },
  {
   "cell_type": "code",
   "execution_count": 11,
   "metadata": {},
   "outputs": [
    {
     "name": "stdout",
     "output_type": "stream",
     "text": [
      "[1. 0. 0. 1. 1. 0. 1. 1. 0. 1. 0. 1. 0. 1. 0. 0. 0. 0. 1. 0. 0. 1. 1. 1.\n",
      " 1. 0. 0. 1. 0. 1. 0. 1. 1. 1. 0. 0. 1. 1. 1. 1. 0. 0. 0. 1. 0. 0. 0. 1.\n",
      " 0. 1. 1. 0. 1.]\n",
      "[0. 0. 0. 0. 0. 0. 0. 1. 0. 0. 1. 0. 1. 0. 1. 1. 1. 1. 1. 1. 0. 1. 0. 1.\n",
      " 0. 1. 1.]\n"
     ]
    }
   ],
   "source": [
    "# create the boolean array for training and testing\n",
    "boolean_list = []\n",
    "for i in (training_labels):\n",
    "    boolean_list.append(i[0])\n",
    "boolean_array_training = np.asarray(boolean_list)\n",
    "print(boolean_array_training)\n",
    "\n",
    "boolean_list = []\n",
    "for i in (test_labels):\n",
    "    boolean_list.append(i[0])\n",
    "boolean_array_testing = np.asarray(boolean_list)\n",
    "print(boolean_array_testing)"
   ]
  },
  {
   "cell_type": "code",
   "execution_count": 12,
   "metadata": {},
   "outputs": [],
   "source": [
    "# HaarMatrix utilized for m-product\n",
    "def haarMatrix(n):\n",
    "    # n is the power of 2\n",
    "    if n > 2:\n",
    "        M = haarMatrix(n / 2)\n",
    "    else:\n",
    "        return np.array([[1, 1], [1, -1]])\n",
    "    M_n = np.kron(M, [1, 1])\n",
    "    M_i = np.sqrt(n/2)*np.kron(np.eye(len(M)), [1, -1])\n",
    "    M = np.vstack((M_n, M_i))\n",
    "    return M\n",
    "def haar_normalized(n):\n",
    "    M = haarMatrix(n)\n",
    "    M = M/np.sqrt(np.sum(M[0]))\n",
    "    return M"
   ]
  },
  {
   "cell_type": "code",
   "execution_count": 13,
   "metadata": {},
   "outputs": [
    {
     "name": "stdout",
     "output_type": "stream",
     "text": [
      "2\n"
     ]
    }
   ],
   "source": [
    "# ==================================================================================================================== #\n",
    "# form local t-svd\n",
    "# num_class should be 2\n",
    "num_classes = len(np.unique(training_labels))\n",
    "k = 5\n",
    "\n",
    "U = []\n",
    "print(num_classes)\n",
    "\n",
    "for i in range(num_classes):\n",
    "    if prod_type == 'm':\n",
    "        u, _, _, _ = tp.ten_svd(training_data[:, boolean_array_training == i, :], k, prod_type=prod_type, M = (haar_normalized(64),haar_normalized(8),haar_normalized(16)))\n",
    "        U.append(u)\n",
    "    else:\n",
    "        u, _, _, _ = tp.ten_svd(training_data[:, boolean_array_training == i, :], k, prod_type=prod_type)\n",
    "        U.append(u)"
   ]
  },
  {
   "cell_type": "code",
   "execution_count": 16,
   "metadata": {},
   "outputs": [
    {
     "name": "stdout",
     "output_type": "stream",
     "text": [
      "Frobenius\n",
      "train accuracy = 100.00\n",
      "test accuracy = 92.59\n"
     ]
    }
   ],
   "source": [
    "# ==================================================================================================================== #\n",
    "# compute results on training and test data\n",
    "training_error = np.zeros([num_classes, training_data.shape[1]])\n",
    "test_error = np.zeros([num_classes, test_data.shape[1]])\n",
    "for i in range(num_classes):\n",
    "    training_projection = projection(training_data, U[i], prod_type=prod_type)\n",
    "    training_error[i, :] = sm.frobenius_metric(training_data, training_projection, axis=1)\n",
    "\n",
    "    test_projection = projection(test_data, U[i], prod_type=prod_type)\n",
    "    test_error[i, :] = sm.frobenius_metric(test_data, test_projection, axis=1)\n",
    "    \n",
    "# classification\n",
    "training_predicted_classes = np.argmin(training_error, axis=0).reshape(-1)\n",
    "test_predicted_classes = np.argmin(test_error, axis=0).reshape(-1)\n",
    "\n",
    "# results\n",
    "\n",
    "training_num_correct = np.sum(training_predicted_classes == boolean_array_training)\n",
    "training_accuracy = training_num_correct / training_data.shape[1]\n",
    "\n",
    "test_num_correct = np.sum(test_predicted_classes == boolean_array_testing)\n",
    "test_accuracy = test_num_correct / test_data.shape[1]\n",
    "\n",
    "print('Frobenius')\n",
    "print('train accuracy = %0.2f' % (100 * training_accuracy))\n",
    "print('test accuracy = %0.2f' % (100 * test_accuracy))"
   ]
  },
  {
   "cell_type": "code",
   "execution_count": 19,
   "metadata": {},
   "outputs": [
    {
     "name": "stdout",
     "output_type": "stream",
     "text": [
      "Cosine\n",
      "train accuracy = 100.00\n",
      "test accuracy = 92.59\n"
     ]
    }
   ],
   "source": [
    "# ==================================================================================================================== #\n",
    "# compute results on training and test data\n",
    "training_error_cosine = np.zeros([num_classes, training_data.shape[1]])\n",
    "test_error_cosine = np.zeros([num_classes, test_data.shape[1]])\n",
    "for i in range(num_classes):\n",
    "    training_projection = projection(training_data, U[i], prod_type=prod_type)\n",
    "    training_error_cosine[i, :] = sm.cosine_metric(training_data, training_projection, axis=1)\n",
    "\n",
    "    test_projection = projection(test_data, U[i], prod_type=prod_type)\n",
    "    test_error_cosine[i, :] = sm.cosine_metric(test_data, test_projection, axis=1)\n",
    "    \n",
    "# classification\n",
    "training_predicted_classes_cosine = np.argmin(training_error_cosine, axis=0).reshape(-1)\n",
    "test_predicted_classes_cosine = np.argmin(test_error_cosine, axis=0).reshape(-1)\n",
    "\n",
    "# results\n",
    "\n",
    "training_num_correct_cosine = np.sum(training_predicted_classes_cosine == boolean_array_training)\n",
    "training_accuracy_cosine = training_num_correct_cosine / training_data.shape[1]\n",
    "\n",
    "test_num_correct_cosine = np.sum(test_predicted_classes_cosine == boolean_array_testing)\n",
    "test_accuracy_cosine = test_num_correct_cosine / test_data.shape[1]\n",
    "\n",
    "print('Cosine')\n",
    "print('train accuracy = %0.2f' % (100 * training_accuracy_cosine))\n",
    "print('test accuracy = %0.2f' % (100 * test_accuracy_cosine))"
   ]
  },
  {
   "cell_type": "code",
   "execution_count": null,
   "metadata": {},
   "outputs": [],
   "source": [
    "#why do two different distance metrics have the exact same accuracy? \n",
    "#maybe data is too small (with just k=2 classification classes) for it to make a major difference?"
   ]
  }
 ],
 "metadata": {
  "kernelspec": {
   "display_name": "Python 3",
   "language": "python",
   "name": "python3"
  },
  "language_info": {
   "codemirror_mode": {
    "name": "ipython",
    "version": 3
   },
   "file_extension": ".py",
   "mimetype": "text/x-python",
   "name": "python",
   "nbconvert_exporter": "python",
   "pygments_lexer": "ipython3",
   "version": "3.7.4"
  }
 },
 "nbformat": 4,
 "nbformat_minor": 2
}
